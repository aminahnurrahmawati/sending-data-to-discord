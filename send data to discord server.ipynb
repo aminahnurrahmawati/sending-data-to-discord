{
 "cells": [
  {
   "cell_type": "code",
   "execution_count": 1,
   "id": "232dfe31",
   "metadata": {},
   "outputs": [],
   "source": [
    "import pandas as pd #pandas untuk membuat dataframe(df)\n",
    "from openpyxl import load_workbook #untuk berinterkasi antara python & excel file\n",
    "from openpyxl.styles import *\n",
    "from openpyxl.chart import *\n",
    "from openpyxl.chart.shapes import GraphicalProperties\n",
    "from openpyxl.chart.label import DataLabelList"
   ]
  },
  {
   "cell_type": "code",
   "execution_count": 2,
   "id": "f3835a9f",
   "metadata": {},
   "outputs": [
    {
     "data": {
      "text/html": [
       "<div>\n",
       "<style scoped>\n",
       "    .dataframe tbody tr th:only-of-type {\n",
       "        vertical-align: middle;\n",
       "    }\n",
       "\n",
       "    .dataframe tbody tr th {\n",
       "        vertical-align: top;\n",
       "    }\n",
       "\n",
       "    .dataframe thead th {\n",
       "        text-align: right;\n",
       "    }\n",
       "</style>\n",
       "<table border=\"1\" class=\"dataframe\">\n",
       "  <thead>\n",
       "    <tr style=\"text-align: right;\">\n",
       "      <th>Product line</th>\n",
       "      <th>Electronic accessories</th>\n",
       "      <th>Fashion accessories</th>\n",
       "      <th>Food and beverages</th>\n",
       "      <th>Health and beauty</th>\n",
       "      <th>Home and lifestyle</th>\n",
       "      <th>Sports and travel</th>\n",
       "    </tr>\n",
       "    <tr>\n",
       "      <th>Gender</th>\n",
       "      <th></th>\n",
       "      <th></th>\n",
       "      <th></th>\n",
       "      <th></th>\n",
       "      <th></th>\n",
       "      <th></th>\n",
       "    </tr>\n",
       "  </thead>\n",
       "  <tbody>\n",
       "    <tr>\n",
       "      <th>Female</th>\n",
       "      <td>27102.0</td>\n",
       "      <td>30437.0</td>\n",
       "      <td>33171.0</td>\n",
       "      <td>18561.0</td>\n",
       "      <td>30037.0</td>\n",
       "      <td>28575.0</td>\n",
       "    </tr>\n",
       "    <tr>\n",
       "      <th>Male</th>\n",
       "      <td>27236.0</td>\n",
       "      <td>23868.0</td>\n",
       "      <td>22974.0</td>\n",
       "      <td>30633.0</td>\n",
       "      <td>23825.0</td>\n",
       "      <td>26548.0</td>\n",
       "    </tr>\n",
       "  </tbody>\n",
       "</table>\n",
       "</div>"
      ],
      "text/plain": [
       "Product line  Electronic accessories  Fashion accessories  Food and beverages  \\\n",
       "Gender                                                                          \n",
       "Female                       27102.0              30437.0             33171.0   \n",
       "Male                         27236.0              23868.0             22974.0   \n",
       "\n",
       "Product line  Health and beauty  Home and lifestyle  Sports and travel  \n",
       "Gender                                                                  \n",
       "Female                  18561.0             30037.0            28575.0  \n",
       "Male                    30633.0             23825.0            26548.0  "
      ]
     },
     "execution_count": 2,
     "metadata": {},
     "output_type": "execute_result"
    }
   ],
   "source": [
    "df = pd.read_excel('supermarket_sales.xlsx')\n",
    "\n",
    "#Penjualan Total per Gender & Product Line\n",
    "df = df.pivot_table(index='Gender', \n",
    "                    columns='Product line', \n",
    "                    values='Total', \n",
    "                    aggfunc='sum').round()\n",
    "\n",
    "df.head() #melihat data teratas"
   ]
  },
  {
   "cell_type": "code",
   "execution_count": 11,
   "id": "f83b9ad9",
   "metadata": {},
   "outputs": [
    {
     "name": "stdout",
     "output_type": "stream",
     "text": [
      "Save dataframe to excel...\n",
      "Save dataframe done...\n"
     ]
    }
   ],
   "source": [
    "#Membuat Automated Reporting (Table & Grafik), dan dikirim ke discords (server digital_skola_project_1)\n",
    "webhook_url = 'https://discord.com/api/webhooks/1026886404732620932/kg4r9FyiwFFsDU27fzPeT7rlYPN5iMWUYzFr0_2dYC8I-3iEy51wbo5A9c929xBI57tn'\n",
    "##PART 1 - LOAD DATASET\n",
    "df = pd.read_excel('supermarket_sales.xlsx') #membaca data excel menggunakan pandas\n",
    "\n",
    "#Penjualan Total per Gender & Product Line\n",
    "df = df.pivot_table(index='Gender', \n",
    "                    columns='Product line', \n",
    "                    values='Total', \n",
    "                    aggfunc='sum').round()\n",
    "\n",
    "print('Save dataframe to excel...')\n",
    "\n",
    "output_file = df.to_excel('output_file.xlsx', \n",
    "                sheet_name='Report', \n",
    "                startrow=4) #menyimpan output ke format xlsx, jika ingin format csv bisa dibuat \"pd.to_csv\"\n",
    "\n",
    "print('Save dataframe done...')\n",
    "\n"
   ]
  },
  {
   "cell_type": "code",
   "execution_count": 16,
   "id": "0b97dee9",
   "metadata": {},
   "outputs": [
    {
     "name": "stdout",
     "output_type": "stream",
     "text": [
      "Collecting discord\n",
      "  Downloading discord-2.0.0-py3-none-any.whl (1.1 kB)\n",
      "Collecting discord.py>=2.0.0\n",
      "  Downloading discord.py-2.0.1-py3-none-any.whl (1.1 MB)\n",
      "Requirement already satisfied: aiohttp<4,>=3.7.4 in c:\\users\\acer\\anaconda3\\lib\\site-packages (from discord.py>=2.0.0->discord) (3.8.1)\n",
      "Requirement already satisfied: yarl<2.0,>=1.0 in c:\\users\\acer\\anaconda3\\lib\\site-packages (from aiohttp<4,>=3.7.4->discord.py>=2.0.0->discord) (1.6.3)\n",
      "Requirement already satisfied: async-timeout<5.0,>=4.0.0a3 in c:\\users\\acer\\anaconda3\\lib\\site-packages (from aiohttp<4,>=3.7.4->discord.py>=2.0.0->discord) (4.0.1)\n",
      "Requirement already satisfied: charset-normalizer<3.0,>=2.0 in c:\\users\\acer\\anaconda3\\lib\\site-packages (from aiohttp<4,>=3.7.4->discord.py>=2.0.0->discord) (2.0.4)\n",
      "Requirement already satisfied: attrs>=17.3.0 in c:\\users\\acer\\anaconda3\\lib\\site-packages (from aiohttp<4,>=3.7.4->discord.py>=2.0.0->discord) (21.4.0)\n",
      "Requirement already satisfied: frozenlist>=1.1.1 in c:\\users\\acer\\anaconda3\\lib\\site-packages (from aiohttp<4,>=3.7.4->discord.py>=2.0.0->discord) (1.2.0)\n",
      "Requirement already satisfied: aiosignal>=1.1.2 in c:\\users\\acer\\anaconda3\\lib\\site-packages (from aiohttp<4,>=3.7.4->discord.py>=2.0.0->discord) (1.2.0)\n",
      "Requirement already satisfied: multidict<7.0,>=4.5 in c:\\users\\acer\\anaconda3\\lib\\site-packages (from aiohttp<4,>=3.7.4->discord.py>=2.0.0->discord) (5.1.0)\n",
      "Requirement already satisfied: typing-extensions>=3.6.5 in c:\\users\\acer\\anaconda3\\lib\\site-packages (from async-timeout<5.0,>=4.0.0a3->aiohttp<4,>=3.7.4->discord.py>=2.0.0->discord) (4.1.1)\n",
      "Requirement already satisfied: idna>=2.0 in c:\\users\\acer\\anaconda3\\lib\\site-packages (from yarl<2.0,>=1.0->aiohttp<4,>=3.7.4->discord.py>=2.0.0->discord) (3.3)\n",
      "Installing collected packages: discord.py, discord\n",
      "Successfully installed discord-2.0.0 discord.py-2.0.1\n"
     ]
    }
   ],
   "source": [
    "! pip install discord #menginstall library discord , bisa diskip jika sudah ada library tersebut tinggal tambahakan tanda '#' di depan coding"
   ]
  },
  {
   "cell_type": "code",
   "execution_count": 13,
   "id": "35b19de2",
   "metadata": {},
   "outputs": [],
   "source": [
    "##PART 2 - GRAFIK\n",
    "wb = load_workbook('output_file.xlsx')\n",
    "wb.active = wb['Report']"
   ]
  },
  {
   "cell_type": "code",
   "execution_count": 18,
   "id": "f3319779",
   "metadata": {},
   "outputs": [
    {
     "name": "stdout",
     "output_type": "stream",
     "text": [
      "1 7 1 10\n"
     ]
    }
   ],
   "source": [
    "min_column = wb.active.min_column\n",
    "max_column = wb.active.max_column\n",
    "min_row = wb.active.min_row\n",
    "max_row = wb.active.max_row\n",
    "\n",
    "print(min_column, max_column, min_row, max_row)\n",
    "\n",
    "barchart = BarChart()\n",
    "\n",
    "data = Reference(wb.active, \n",
    "                min_col=min_column+1,\n",
    "                max_col=max_column,\n",
    "                min_row=min_row,\n",
    "                max_row=max_row\n",
    "                )\n",
    "\n",
    "categories = Reference(wb.active,\n",
    "                        min_col=min_column,\n",
    "                        max_col=max_column,\n",
    "                        min_row=min_row+1,\n",
    "                        max_row=max_row\n",
    "                        )\n",
    "\n",
    "barchart.add_data(data, titles_from_data=True)\n",
    "barchart.set_categories(categories)\n",
    "\n",
    "\n",
    "wb.active.add_chart(barchart, 'B12')\n",
    "barchart.title = 'Sales berdasarkan Produk'\n",
    "barchart.style = 2\n",
    "# wb.save(output_file)\n",
    "\n",
    "\n",
    "#Total dari Penjualan\n",
    "import string\n",
    "alphabet = list(string.ascii_uppercase)\n",
    "alphabet_excel = alphabet[:max_column]\n",
    "#[A,B,C,D,E,F,G]\n",
    "for i in alphabet_excel:\n",
    "    if i != 'A':\n",
    "        wb.active[f'{i}{max_row+1}'] = f'=SUM({i}{min_row+1}:{i}{max_row})'\n",
    "        wb.active[f'{i}{max_row+1}'].style = 'Currency'\n",
    "\n",
    "wb.active[f'{alphabet_excel[0]}{max_row+1}'] = 'Total'\n",
    "\n",
    "wb.active['A1'] = 'Sales Report'\n",
    "wb.active['A2'] = '2019'\n",
    "wb.active['A1'].font = Font('Arial', bold=True, size=20)\n",
    "wb.active['A2'].font = Font('Arial', bold=True, size=10)\n",
    "\n",
    "wb.save('output_file.xlsx')\n",
    "\n",
    "#PART - 3 Send to discord\n",
    "# pip3 install discord==1.7.3\n",
    "\n",
    "def send_to_discord():\n",
    "    import discord\n",
    "    from discord import SyncWebhook\n",
    "\n",
    "    webhook = SyncWebhook.from_url(webhook_url)\n",
    "\n",
    "    with open(file='output_file.xlsx', mode='rb') as file:\n",
    "        excel_file = discord.File(file)\n",
    "\n",
    "    webhook.send('This is an automated report', \n",
    "                username='Sales Bot', \n",
    "                file=excel_file)\n",
    "\n",
    "send_to_discord()"
   ]
  },
  {
   "cell_type": "code",
   "execution_count": null,
   "id": "965223e8",
   "metadata": {},
   "outputs": [],
   "source": []
  }
 ],
 "metadata": {
  "kernelspec": {
   "display_name": "Python 3 (ipykernel)",
   "language": "python",
   "name": "python3"
  },
  "language_info": {
   "codemirror_mode": {
    "name": "ipython",
    "version": 3
   },
   "file_extension": ".py",
   "mimetype": "text/x-python",
   "name": "python",
   "nbconvert_exporter": "python",
   "pygments_lexer": "ipython3",
   "version": "3.9.12"
  }
 },
 "nbformat": 4,
 "nbformat_minor": 5
}
